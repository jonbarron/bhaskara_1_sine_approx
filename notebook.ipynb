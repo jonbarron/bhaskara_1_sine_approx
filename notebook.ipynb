{
  "nbformat": 4,
  "nbformat_minor": 0,
  "metadata": {
    "colab": {
      "name": "Bhaskara_1_sine_approximation.ipynb",
      "provenance": [],
      "collapsed_sections": []
    },
    "kernelspec": {
      "name": "python3",
      "display_name": "Python 3"
    }
  },
  "cells": [
    {
      "cell_type": "markdown",
      "metadata": {
        "id": "UXhmWiHxXcON",
        "colab_type": "text"
      },
      "source": [
        "Tensorflow and Numpy implementations of [Bhaskara I's sine approximation formula](https://en.wikipedia.org/wiki/Bhaskara_I%27s_sine_approximation_formula), extended to approximate sin/cos everywhere instead of just at the origin. This approximates sin and cosine everywhere to within a tolerance of 0.0017. Profiling this code suggests that it's significantly slower than the built in sin/cos implementations in Numpy and TensorFlow, but it might be a useful starting point for a custom op."
      ]
    },
    {
      "cell_type": "code",
      "metadata": {
        "id": "KQWaI_7UrsjH",
        "colab_type": "code",
        "colab": {}
      },
      "source": [
        "import time\n",
        "import numpy as np\n",
        "import matplotlib.pyplot as plt"
      ],
      "execution_count": 0,
      "outputs": []
    },
    {
      "cell_type": "code",
      "metadata": {
        "id": "VpbP59iXMocO",
        "colab_type": "code",
        "colab": {}
      },
      "source": [
        "x = np.float32(np.linspace(-np.pi*4, np.pi*4, 10001))\n",
        "\n",
        "def cosb(x):\n",
        "  x_mod_sq = 0.25 * (np.pi - np.abs(np.pi - 2*(x % np.pi)))**2\n",
        "  x_sign = 1 - 2 * (((np.pi/2 + x) % (2*np.pi) > np.pi))\n",
        "  x_cos = x_sign * (np.pi**2 - 4*x_mod_sq)/(np.pi**2 + x_mod_sq)\n",
        "  return x_cos\n",
        "\n",
        "def sinb(x):\n",
        "  return cosb(x - np.pi/2)\n",
        "\n",
        "cosx = np.cos(x)\n",
        "sinx = np.sin(x)\n",
        "cosbx = cosb(x)\n",
        "sinbx = sinb(x)\n",
        "\n",
        "def test(y1, y2, t = 0.0017):\n",
        "  plt.plot(x, y1, linewidth=5)\n",
        "  plt.plot(x, y2)\n",
        "  err = np.max(np.abs(y1 - y2))\n",
        "  print(err)\n",
        "  assert err < t\n",
        "\n",
        "test(cosx, cosbx)\n",
        "test(sinx, sinbx)\n",
        "\n",
        "runtimes = []\n",
        "for _ in range(100):\n",
        "  t0 = time.time()\n",
        "  y = cosb(x)\n",
        "  y = sinb(x)\n",
        "  t1 = time.time()\n",
        "  runtimes.append(t1 - t0)\n",
        "time_approx = 1000 * np.median(runtimes)\n",
        "\n",
        "runtimes = []\n",
        "for _ in range(100):\n",
        "  t0 = time.time()\n",
        "  y = np.cos(x)\n",
        "  y = np.sin(x)\n",
        "  t1 = time.time()\n",
        "  runtimes.append(t1 - t0)\n",
        "time_default = 1000 * np.median(runtimes)\n",
        "print(f'{time_default:0.5f} -> {time_approx:0.5f} | {time_default / time_approx:0.5f}x')"
      ],
      "execution_count": 0,
      "outputs": []
    },
    {
      "cell_type": "code",
      "metadata": {
        "id": "Evk98yAAKTD3",
        "colab_type": "code",
        "colab": {}
      },
      "source": [
        "import tensorflow as tf\n",
        "\n",
        "x = tf.convert_to_tensor(np.float32(np.linspace(-np.pi*4, np.pi*4, 10001)))\n",
        "\n",
        "@tf.function\n",
        "@tf.custom_gradient\n",
        "def cosb(x):\n",
        "  x_mod_sq = 0.25 * (np.pi - tf.math.abs(np.pi - 2*(x % np.pi)))**2\n",
        "  x_sign = 1 - 2 * tf.cast(((np.pi/2 + x) % (2*np.pi) > np.pi), x.dtype)\n",
        "  x_cos = x_sign * (np.pi**2 - 4*x_mod_sq)/(np.pi**2 + x_mod_sq)\n",
        "  # TF's autodiff of `y` is wrong where x_sign switches over, because instead\n",
        "  # of returning a valid subgradient there TF returns 0. This can be fixed by\n",
        "  # using trig identities and a custom grad. Note that this gradient is an\n",
        "  # accurate approximation to the gradient of non-approximate cos(), but is a\n",
        "  # less accurate approximation to the value returned by this function.\n",
        "  def grad(dy):\n",
        "    return -cosb(x - np.pi/2) * dy\n",
        "  return x_cos, grad\n",
        "\n",
        "@tf.function\n",
        "def sinb(x):\n",
        "  return cosb(x - np.pi/2)\n",
        "\n",
        "with tf.GradientTape(persistent=True) as tape:\n",
        "  tape.watch(x)\n",
        "  cosx = tf.math.cos(x)\n",
        "  sinx = tf.math.sin(x)\n",
        "  cosbx = cosb(x)\n",
        "  sinbx = sinb(x)\n",
        "dcosx = tape.gradient(cosx, x) \n",
        "dsinx = tape.gradient(sinx, x) \n",
        "dcosbx = tape.gradient(cosbx, x) \n",
        "dsinbx = tape.gradient(sinbx, x) \n",
        "\n",
        "def test(y1, y2, t = 0.0017):\n",
        "  plt.plot(x, y1, linewidth=5)\n",
        "  plt.plot(x, y2)\n",
        "  err = np.max(np.abs(y1 - y2))\n",
        "  print(err)\n",
        "  assert err < t\n",
        "\n",
        "test(cosx, cosbx)\n",
        "test(dcosx, dcosbx)\n",
        "test(sinx, sinbx)\n",
        "test(dsinx, dsinbx)\n",
        "\n",
        "runtimes = []\n",
        "for _ in range(100):\n",
        "  t0 = time.time()\n",
        "  y = cosb(x)\n",
        "  y = sinb(x)\n",
        "  t1 = time.time()\n",
        "  runtimes.append(t1 - t0)\n",
        "time_approx = 1000 * np.median(runtimes)\n",
        "\n",
        "runtimes = []\n",
        "for _ in range(100):\n",
        "  t0 = time.time()\n",
        "  y = tf.math.cos(x)\n",
        "  y = tf.math.sin(x)\n",
        "  t1 = time.time()\n",
        "  runtimes.append(t1 - t0)\n",
        "time_default = 1000 * np.median(runtimes)\n",
        "print(f'{time_default:0.5f} -> {time_approx:0.5f} | {time_default / time_approx:0.5f}x')"
      ],
      "execution_count": 0,
      "outputs": []
    }
  ]
}